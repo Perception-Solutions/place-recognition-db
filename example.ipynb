{
 "cells": [
  {
   "cell_type": "markdown",
   "source": [
    "**Importing everything you need**"
   ],
   "metadata": {
    "collapsed": false
   }
  },
  {
   "cell_type": "code",
   "execution_count": null,
   "outputs": [],
   "source": [
    "import numpy as np\n",
    "\n",
    "from pathlib import Path\n",
    "\n",
    "from vprdb.io import export, read_dataset_from_depth, read_dataset_from_point_clouds\n",
    "from vprdb.reduction_methods import DominatingSet"
   ],
   "metadata": {
    "collapsed": false
   }
  },
  {
   "cell_type": "markdown",
   "source": [
    "**Reading dataset with depth images**"
   ],
   "metadata": {
    "collapsed": false
   }
  },
  {
   "cell_type": "code",
   "execution_count": null,
   "outputs": [],
   "source": [
    "path_to_dataset = (\n",
    "    \"path/to/dataset/with/depth/images\"\n",
    ")\n",
    "intrinsics = np.asarray(\n",
    "    [\n",
    "        [953.95397949, 0.0, 958.03153013],\n",
    "        [0.0, 941.55212402, 552.51219511],\n",
    "        [0.0, 0.0, 1.0],\n",
    "    ]\n",
    ")\n",
    "database_from_depth_images = read_dataset_from_depth(\n",
    "    path_to_dataset=Path(path_to_dataset),\n",
    "    color_dir=\"color\",\n",
    "    depth_dir=\"depth\",\n",
    "    trajectory_file_name=\"CameraTrajectory.txt\",\n",
    "    intrinsics=intrinsics,\n",
    "    depth_scale=1000,\n",
    "    with_timestamps=True\n",
    ")"
   ],
   "metadata": {
    "collapsed": false
   }
  },
  {
   "cell_type": "markdown",
   "source": [
    "**Reading dataset with point clouds**"
   ],
   "metadata": {
    "collapsed": false
   }
  },
  {
   "cell_type": "code",
   "execution_count": null,
   "outputs": [],
   "source": [
    "path_to_dataset = (\n",
    "    \"path/to/dataset/with/point/clouds\"\n",
    ")\n",
    "database_from_point_clouds = read_dataset_from_point_clouds(\n",
    "    path_to_dataset=Path(path_to_dataset),\n",
    "    color_dir=\"color\",\n",
    "    point_clouds_dir=\"pcd\",\n",
    "    trajectory_file_name=\"CameraTrajectory.txt\",\n",
    "    with_timestamps=True\n",
    ")"
   ],
   "metadata": {
    "collapsed": false
   }
  },
  {
   "cell_type": "markdown",
   "source": [
    "**Creating reduced DB using dominating set algo**\\\n",
    "You can increase or decrease the threshold to increase or decrease the number of images in the result database, respectively"
   ],
   "metadata": {
    "collapsed": false
   }
  },
  {
   "cell_type": "code",
   "execution_count": null,
   "outputs": [],
   "source": [
    "dominating_set = DominatingSet(threshold=0.3, voxel_size=0.3)\n",
    "reduced_db_from_depth_images = dominating_set.reduce(database_from_depth_images)"
   ],
   "metadata": {
    "collapsed": false
   }
  },
  {
   "cell_type": "markdown",
   "source": [
    "**Exporting new DB to hard drive**"
   ],
   "metadata": {
    "collapsed": false
   }
  },
  {
   "cell_type": "code",
   "execution_count": null,
   "outputs": [],
   "source": [
    "path_to_export = 'path/to/reduced_db'\n",
    "export(database=reduced_db_from_depth_images,\n",
    "       path_to_export=Path(path_to_export),\n",
    "       color_dir='color',\n",
    "       spatial_data_dir='depth',\n",
    "       trajectory_file_name='poses.txt')"
   ],
   "metadata": {
    "collapsed": false
   }
  }
 ],
 "metadata": {
  "kernelspec": {
   "display_name": "Python 3",
   "language": "python",
   "name": "python3"
  },
  "language_info": {
   "codemirror_mode": {
    "name": "ipython",
    "version": 2
   },
   "file_extension": ".py",
   "mimetype": "text/x-python",
   "name": "python",
   "nbconvert_exporter": "python",
   "pygments_lexer": "ipython2",
   "version": "2.7.6"
  }
 },
 "nbformat": 4,
 "nbformat_minor": 0
}
